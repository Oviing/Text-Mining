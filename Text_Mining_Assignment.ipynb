{
 "cells": [
  {
   "cell_type": "markdown",
   "metadata": {},
   "source": [
    "Models used in this assignment"
   ]
  },
  {
   "cell_type": "code",
   "execution_count": 1,
   "metadata": {},
   "outputs": [],
   "source": [
    "import re\n",
    "import numpy as np\n",
    "import pandas as pd\n",
    "import matplotlib.pyplot as plt\n",
    "from sklearn.pipeline import Pipeline\n",
    "\n",
    "#Used for task A1\n",
    "from nltk.corpus import stopwords\n",
    "from nltk.tokenize import word_tokenize\n",
    "from nltk.util import ngrams\n",
    "\n",
    "#used for task A2\n",
    "from nltk import sent_tokenize\n",
    "from sklearn.feature_extraction.text import CountVectorizer\n",
    "from sklearn.feature_extraction.text import TfidfVectorizer\n",
    "\n",
    "#used for task B1\n",
    "from sklearn.model_selection import KFold, StratifiedKFold, train_test_split, cross_validate, cross_val_score\n",
    "from sklearn.preprocessing import LabelEncoder\n",
    "from sklearn.preprocessing import Normalizer\n",
    "\n",
    "from sklearn.neighbors import KNeighborsClassifier\n",
    "from sklearn.ensemble import AdaBoostClassifier\n",
    "from sklearn.model_selection import GridSearchCV\n",
    "from sklearn.metrics import confusion_matrix, ConfusionMatrixDisplay\n",
    "from sklearn.metrics import plot_confusion_matrix, classification_report\n",
    "\n",
    "from sklearn.cluster import KMeans\n",
    "\n",
    "#used in part B2\n",
    "from sklearn.decomposition import PCA\n",
    "from sklearn.preprocessing import StandardScaler\n",
    "from sklearn.decomposition import LatentDirichletAllocation\n",
    "\n",
    "#used in task B3\n",
    "import spacy\n",
    "import pytextrank\n",
    "from gensim.summarization.summarizer import summarize\n",
    "\n",
    "%matplotlib inline"
   ]
  },
  {
   "cell_type": "markdown",
   "metadata": {},
   "source": [
    "For the first task of the assignment we are using a drug review dataset. The datset can be downloaded under the following link: http://archive.ics.uci.edu/ml/datasets/Drug+Review+Dataset+%28Druglib.com%29."
   ]
  },
  {
   "cell_type": "code",
   "execution_count": 2,
   "metadata": {},
   "outputs": [],
   "source": [
    "data = pd.read_csv('/Users/joel/Desktop/drugLib_raw/drugLibTrain_raw.tsv', sep='\\t')"
   ]
  },
  {
   "cell_type": "code",
   "execution_count": 3,
   "metadata": {},
   "outputs": [
    {
     "data": {
      "text/html": [
       "<div>\n",
       "<style scoped>\n",
       "    .dataframe tbody tr th:only-of-type {\n",
       "        vertical-align: middle;\n",
       "    }\n",
       "\n",
       "    .dataframe tbody tr th {\n",
       "        vertical-align: top;\n",
       "    }\n",
       "\n",
       "    .dataframe thead th {\n",
       "        text-align: right;\n",
       "    }\n",
       "</style>\n",
       "<table border=\"1\" class=\"dataframe\">\n",
       "  <thead>\n",
       "    <tr style=\"text-align: right;\">\n",
       "      <th></th>\n",
       "      <th>Unnamed: 0</th>\n",
       "      <th>urlDrugName</th>\n",
       "      <th>rating</th>\n",
       "      <th>effectiveness</th>\n",
       "      <th>sideEffects</th>\n",
       "      <th>condition</th>\n",
       "      <th>benefitsReview</th>\n",
       "      <th>sideEffectsReview</th>\n",
       "      <th>commentsReview</th>\n",
       "    </tr>\n",
       "  </thead>\n",
       "  <tbody>\n",
       "    <tr>\n",
       "      <th>0</th>\n",
       "      <td>2202</td>\n",
       "      <td>enalapril</td>\n",
       "      <td>4</td>\n",
       "      <td>Highly Effective</td>\n",
       "      <td>Mild Side Effects</td>\n",
       "      <td>management of congestive heart failure</td>\n",
       "      <td>slowed the progression of left ventricular dys...</td>\n",
       "      <td>cough, hypotension , proteinuria, impotence , ...</td>\n",
       "      <td>monitor blood pressure , weight and asses for ...</td>\n",
       "    </tr>\n",
       "    <tr>\n",
       "      <th>1</th>\n",
       "      <td>3117</td>\n",
       "      <td>ortho-tri-cyclen</td>\n",
       "      <td>1</td>\n",
       "      <td>Highly Effective</td>\n",
       "      <td>Severe Side Effects</td>\n",
       "      <td>birth prevention</td>\n",
       "      <td>Although this type of birth control has more c...</td>\n",
       "      <td>Heavy Cycle, Cramps, Hot Flashes, Fatigue, Lon...</td>\n",
       "      <td>I Hate This Birth Control, I Would Not Suggest...</td>\n",
       "    </tr>\n",
       "    <tr>\n",
       "      <th>2</th>\n",
       "      <td>1146</td>\n",
       "      <td>ponstel</td>\n",
       "      <td>10</td>\n",
       "      <td>Highly Effective</td>\n",
       "      <td>No Side Effects</td>\n",
       "      <td>menstrual cramps</td>\n",
       "      <td>I was used to having cramps so badly that they...</td>\n",
       "      <td>Heavier bleeding and clotting than normal.</td>\n",
       "      <td>I took 2 pills at the onset of my menstrual cr...</td>\n",
       "    </tr>\n",
       "    <tr>\n",
       "      <th>3</th>\n",
       "      <td>3947</td>\n",
       "      <td>prilosec</td>\n",
       "      <td>3</td>\n",
       "      <td>Marginally Effective</td>\n",
       "      <td>Mild Side Effects</td>\n",
       "      <td>acid reflux</td>\n",
       "      <td>The acid reflux went away for a few months aft...</td>\n",
       "      <td>Constipation, dry mouth and some mild dizzines...</td>\n",
       "      <td>I was given Prilosec prescription at a dose of...</td>\n",
       "    </tr>\n",
       "    <tr>\n",
       "      <th>4</th>\n",
       "      <td>1951</td>\n",
       "      <td>lyrica</td>\n",
       "      <td>2</td>\n",
       "      <td>Marginally Effective</td>\n",
       "      <td>Severe Side Effects</td>\n",
       "      <td>fibromyalgia</td>\n",
       "      <td>I think that the Lyrica was starting to help w...</td>\n",
       "      <td>I felt extremely drugged and dopey.  Could not...</td>\n",
       "      <td>See above</td>\n",
       "    </tr>\n",
       "  </tbody>\n",
       "</table>\n",
       "</div>"
      ],
      "text/plain": [
       "   Unnamed: 0       urlDrugName  rating         effectiveness  \\\n",
       "0        2202         enalapril       4      Highly Effective   \n",
       "1        3117  ortho-tri-cyclen       1      Highly Effective   \n",
       "2        1146           ponstel      10      Highly Effective   \n",
       "3        3947          prilosec       3  Marginally Effective   \n",
       "4        1951            lyrica       2  Marginally Effective   \n",
       "\n",
       "           sideEffects                               condition  \\\n",
       "0    Mild Side Effects  management of congestive heart failure   \n",
       "1  Severe Side Effects                        birth prevention   \n",
       "2      No Side Effects                        menstrual cramps   \n",
       "3    Mild Side Effects                             acid reflux   \n",
       "4  Severe Side Effects                            fibromyalgia   \n",
       "\n",
       "                                      benefitsReview  \\\n",
       "0  slowed the progression of left ventricular dys...   \n",
       "1  Although this type of birth control has more c...   \n",
       "2  I was used to having cramps so badly that they...   \n",
       "3  The acid reflux went away for a few months aft...   \n",
       "4  I think that the Lyrica was starting to help w...   \n",
       "\n",
       "                                   sideEffectsReview  \\\n",
       "0  cough, hypotension , proteinuria, impotence , ...   \n",
       "1  Heavy Cycle, Cramps, Hot Flashes, Fatigue, Lon...   \n",
       "2         Heavier bleeding and clotting than normal.   \n",
       "3  Constipation, dry mouth and some mild dizzines...   \n",
       "4  I felt extremely drugged and dopey.  Could not...   \n",
       "\n",
       "                                      commentsReview  \n",
       "0  monitor blood pressure , weight and asses for ...  \n",
       "1  I Hate This Birth Control, I Would Not Suggest...  \n",
       "2  I took 2 pills at the onset of my menstrual cr...  \n",
       "3  I was given Prilosec prescription at a dose of...  \n",
       "4                                          See above  "
      ]
     },
     "execution_count": 3,
     "metadata": {},
     "output_type": "execute_result"
    }
   ],
   "source": [
    "data.head()"
   ]
  },
  {
   "cell_type": "markdown",
   "metadata": {},
   "source": [
    " For the following tasks we considere just the column \"SideEffectsReview\""
   ]
  },
  {
   "cell_type": "code",
   "execution_count": 4,
   "metadata": {},
   "outputs": [],
   "source": [
    "X = data['sideEffectsReview']"
   ]
  },
  {
   "cell_type": "code",
   "execution_count": 5,
   "metadata": {},
   "outputs": [
    {
     "data": {
      "text/plain": [
       "\"Heavy Cycle, Cramps, Hot Flashes, Fatigue, Long Lasting Cycles. It's only been 5 1/2 months, but i'm concidering changing to a different bc. This is my first time using any kind of bc, unfortunately due to the constant hassel, i'm not happy with the results.\""
      ]
     },
     "execution_count": 5,
     "metadata": {},
     "output_type": "execute_result"
    }
   ],
   "source": [
    "X[1]"
   ]
  },
  {
   "cell_type": "markdown",
   "metadata": {},
   "source": [
    "Above we see an output of a row in our dataset. Typically people write down their side effects and how much or how long they have taken a drug. We can see each single review as a document while X is then a collection of documents"
   ]
  },
  {
   "cell_type": "markdown",
   "metadata": {},
   "source": [
    "#### Task 1: Building a pipeline to remoce punctuation and stopwords. As well we want to tokenize the data. The result should be a list of bi-grams"
   ]
  },
  {
   "cell_type": "code",
   "execution_count": 6,
   "metadata": {},
   "outputs": [],
   "source": [
    "# a class to clean the text data\n",
    "# 1. A sentence or several sentences are tokenized in a list of separeted elements rowise\n",
    "# 2. For each list punctuations are removed\n",
    "# 3. returns a cleaned list\n",
    "class CleanText():\n",
    "    \n",
    "    def __init__(self):\n",
    "        return\n",
    "        \n",
    "    def fit(self, X, y = None):\n",
    "        return self\n",
    "    \n",
    "    def clean_punctuation(self, x):\n",
    "        \n",
    "        #returns a list with tokinized words. Each string is a seperate element of the list\n",
    "        x = str(x)\n",
    "        w = word_tokenize(x)\n",
    "        \n",
    "        #removes all non alphabetic characters\n",
    "        clean_list = [i for i in w if i.isalpha()]\n",
    "        \n",
    "        return clean_list\n",
    "    \n",
    "    def transform(self, X, y = None):\n",
    "        \n",
    "        l = []\n",
    "        \n",
    "        for i in X:\n",
    "            \n",
    "            cp = self.clean_punctuation(i)\n",
    "            l.append(cp)\n",
    "        \n",
    "        \n",
    "        return l "
   ]
  },
  {
   "cell_type": "code",
   "execution_count": 7,
   "metadata": {},
   "outputs": [],
   "source": [
    "# a class to remove stopwords\n",
    "#uses the stopwords from nltk\n",
    "\n",
    "class Stop():\n",
    "    \n",
    "    def __init__(self, language):\n",
    "        self.lang = language\n",
    "        \n",
    "    def fit(self, X, y = None):\n",
    "        return self\n",
    "    \n",
    "    def remove_stop_words(self, x):\n",
    "        cleaned_list = [w for w in x if not w in stopwords.words(self.lang)]\n",
    "        return cleaned_list\n",
    "    \n",
    "    def transform(self, X, y = None):\n",
    "        l = []\n",
    "        for i in X:\n",
    "            cleaned_sublist = self.remove_stop_words(i)\n",
    "            l.append(cleaned_sublist)\n",
    "        \n",
    "        return l\n",
    "    "
   ]
  },
  {
   "cell_type": "code",
   "execution_count": 8,
   "metadata": {},
   "outputs": [],
   "source": [
    "# a class to generate n-grams\n",
    "# returns a nested list where each sublist is a list of n-grams for a document\n",
    "class NGram():\n",
    "    \n",
    "    def __init__(self, n):\n",
    "        self.n = n\n",
    "        \n",
    "    def fit(self, X, y = None):\n",
    "        return self\n",
    "    \n",
    "    def transform(self, X, y=None):\n",
    "        ngram_total_list = []\n",
    "        for i in range(0, len(X)):\n",
    "            ngram = ngrams(X[i], n = self.n)\n",
    "            \n",
    "            ngram = list(ngram)\n",
    "            \n",
    "            ngram_total_list.append(ngram)\n",
    "            \n",
    "        return ngram_total_list"
   ]
  },
  {
   "cell_type": "code",
   "execution_count": 9,
   "metadata": {},
   "outputs": [],
   "source": [
    "pipe = Pipeline([(\"Remove_Punktuation\", CleanText()),\n",
    "                 (\"Stopwords\", Stop('english')),\n",
    "               (\"NGram\", NGram(2))])"
   ]
  },
  {
   "cell_type": "code",
   "execution_count": 10,
   "metadata": {},
   "outputs": [],
   "source": [
    "pipe_result = pipe.fit_transform(X)"
   ]
  },
  {
   "cell_type": "code",
   "execution_count": 11,
   "metadata": {},
   "outputs": [
    {
     "data": {
      "text/plain": [
       "[('Heavy', 'Cycle'),\n",
       " ('Cycle', 'Cramps'),\n",
       " ('Cramps', 'Hot'),\n",
       " ('Hot', 'Flashes'),\n",
       " ('Flashes', 'Fatigue'),\n",
       " ('Fatigue', 'Long'),\n",
       " ('Long', 'Lasting'),\n",
       " ('Lasting', 'Cycles'),\n",
       " ('Cycles', 'It'),\n",
       " ('It', 'months'),\n",
       " ('months', 'concidering'),\n",
       " ('concidering', 'changing'),\n",
       " ('changing', 'different'),\n",
       " ('different', 'bc'),\n",
       " ('bc', 'This'),\n",
       " ('This', 'first'),\n",
       " ('first', 'time'),\n",
       " ('time', 'using'),\n",
       " ('using', 'kind'),\n",
       " ('kind', 'bc'),\n",
       " ('bc', 'unfortunately'),\n",
       " ('unfortunately', 'due'),\n",
       " ('due', 'constant'),\n",
       " ('constant', 'hassel'),\n",
       " ('hassel', 'happy'),\n",
       " ('happy', 'results')]"
      ]
     },
     "execution_count": 11,
     "metadata": {},
     "output_type": "execute_result"
    }
   ],
   "source": [
    "pipe_result[1]"
   ]
  },
  {
   "cell_type": "markdown",
   "metadata": {},
   "source": [
    "For the first Task we removed stopwords and tokenized the text. Then we built bigrams for each document. Above we see the result. We have a nested list where each individual list is a collection of bigrams for a document"
   ]
  },
  {
   "cell_type": "markdown",
   "metadata": {},
   "source": [
    "#### Task 2: Split the corpus into sentences and vectorize it into a bag of words and TF-ID"
   ]
  },
  {
   "cell_type": "code",
   "execution_count": 12,
   "metadata": {},
   "outputs": [
    {
     "data": {
      "text/plain": [
       "\"Heavy Cycle, Cramps, Hot Flashes, Fatigue, Long Lasting Cycles. It's only been 5 1/2 months, but i'm concidering changing to a different bc. This is my first time using any kind of bc, unfortunately due to the constant hassel, i'm not happy with the results.\""
      ]
     },
     "execution_count": 12,
     "metadata": {},
     "output_type": "execute_result"
    }
   ],
   "source": [
    "X[1]"
   ]
  },
  {
   "cell_type": "code",
   "execution_count": 13,
   "metadata": {},
   "outputs": [],
   "source": [
    "# a class to create sentences out of the text\n",
    "# the function is to each document found in the pandas dataframe. A document is a single row\n",
    "class text2sentence():\n",
    "    \n",
    "    def __init__(self):\n",
    "        return\n",
    "    \n",
    "    def fit(self, X, y = None):\n",
    "        return self\n",
    "    \n",
    "    def sentence(self, x):\n",
    "        x = str(x)\n",
    "        s = sent_tokenize(x)\n",
    "        \n",
    "        return s\n",
    "    \n",
    "    def transform(self, X, y = None):\n",
    "        \n",
    "        \n",
    "        X_sentence = [self.sentence(w) for w in X]\n",
    "        return X_sentence \n",
    "        "
   ]
  },
  {
   "cell_type": "code",
   "execution_count": 14,
   "metadata": {},
   "outputs": [],
   "source": [
    "# a class for the bag of words model\n",
    "# this class returns to arguments\n",
    "# It returns the vector space model and the corresbonding names for each vector\n",
    "class BagOfWords():\n",
    "    \n",
    "    def __init__(self):\n",
    "        self.vectorizer = CountVectorizer(analyzer='word', lowercase = True)\n",
    "        \n",
    "    def fit(self, X, y = None):\n",
    "\n",
    "        return self\n",
    "    \n",
    "    def transform(self, X, y = None):\n",
    "\n",
    "        bow_transform = self.vectorizer.fit_transform(X)\n",
    "        names_of_vectors = self.vectorizer.get_feature_names()\n",
    "        \n",
    "        return bow_transform, names_of_vectors"
   ]
  },
  {
   "cell_type": "code",
   "execution_count": 15,
   "metadata": {},
   "outputs": [],
   "source": [
    "# a class to flatten a nested list into a list\n",
    "# This is necessary if we split our data into sentences befor applying the bag of words algorithm on the data\n",
    "class Flatten():\n",
    "    def __init__(self):\n",
    "        return\n",
    "    \n",
    "    def fit(self, X, y = None):\n",
    "        return self\n",
    "    \n",
    "    def transform(self, X, y = None):\n",
    "        \n",
    "        flatten = [item for sublist in X for item in sublist]\n",
    "        \n",
    "        return flatten   "
   ]
  },
  {
   "cell_type": "code",
   "execution_count": 16,
   "metadata": {},
   "outputs": [],
   "source": [
    "''' a class to lower case capitalized words. As well this class merges sub lists to a string\n",
    " Used before applying bag of Words or TF-ID '''\n",
    "\n",
    "class Lower():\n",
    "    def __init__(self):\n",
    "        return\n",
    "    \n",
    "    def fit(self, X, y = None):\n",
    "        return self\n",
    "    \n",
    "    def transform(self, X, y = None):\n",
    "        \n",
    "        lower_list = []\n",
    "        for i in X:\n",
    "            X_actual = i\n",
    "            lower = [x.lower() for x in X_actual]\n",
    "            lower_list.append(lower)\n",
    "        \n",
    "        list_of_list_to_string = [' '.join(l) for l in lower_list]\n",
    "                          \n",
    "        return list_of_list_to_string"
   ]
  },
  {
   "cell_type": "code",
   "execution_count": 17,
   "metadata": {},
   "outputs": [],
   "source": [
    "# this class returns to arguments\n",
    "# It returns the vector space model and the corresbonding names for each vector\n",
    "# this class returns to arguments\n",
    "# It returns the vector space model and the corresbonding names for each vector\n",
    "class TF_ID():\n",
    "    \n",
    "    def __init__(self):\n",
    "        self.vectorizer = TfidfVectorizer(analyzer='word')\n",
    "        \n",
    "    def fit(self, X, y = None):\n",
    "        \n",
    "        return self\n",
    "    \n",
    "    def transform(self, X, y = None):\n",
    "\n",
    "        tfid_transform = self.vectorizer.fit_transform(X)\n",
    "        names_of_vectors = self.vectorizer.get_feature_names()\n",
    "        \n",
    "        return tfid_transform, names_of_vectors\n"
   ]
  },
  {
   "cell_type": "code",
   "execution_count": 18,
   "metadata": {},
   "outputs": [],
   "source": [
    "pipe_1 = Pipeline([\n",
    "                (\"Sentences\", text2sentence()),\n",
    "                 (\"Flatten\", Flatten()),\n",
    "                 (\"BoW\", BagOfWords())])\n",
    "\n",
    "#we applied a flatten function to merge sublist into a list. \n",
    "#We need to do this to allow to apply BoW on the complete corpus and not just one a singe document"
   ]
  },
  {
   "cell_type": "code",
   "execution_count": 19,
   "metadata": {},
   "outputs": [],
   "source": [
    "pipe_result_1, names_bow = pipe_1.fit_transform(X)"
   ]
  },
  {
   "cell_type": "code",
   "execution_count": 20,
   "metadata": {},
   "outputs": [
    {
     "data": {
      "text/html": [
       "<div>\n",
       "<style scoped>\n",
       "    .dataframe tbody tr th:only-of-type {\n",
       "        vertical-align: middle;\n",
       "    }\n",
       "\n",
       "    .dataframe tbody tr th {\n",
       "        vertical-align: top;\n",
       "    }\n",
       "\n",
       "    .dataframe thead th {\n",
       "        text-align: right;\n",
       "    }\n",
       "</style>\n",
       "<table border=\"1\" class=\"dataframe\">\n",
       "  <thead>\n",
       "    <tr style=\"text-align: right;\">\n",
       "      <th></th>\n",
       "      <th>00</th>\n",
       "      <th>000</th>\n",
       "      <th>000mg</th>\n",
       "      <th>025</th>\n",
       "      <th>05</th>\n",
       "      <th>07</th>\n",
       "      <th>08</th>\n",
       "      <th>10</th>\n",
       "      <th>100</th>\n",
       "      <th>1000</th>\n",
       "      <th>...</th>\n",
       "      <th>zithromycin</th>\n",
       "      <th>zofran</th>\n",
       "      <th>zoloft</th>\n",
       "      <th>zombie</th>\n",
       "      <th>zombing</th>\n",
       "      <th>zomig</th>\n",
       "      <th>zone</th>\n",
       "      <th>zyban</th>\n",
       "      <th>zyprexa</th>\n",
       "      <th>zyrtec</th>\n",
       "    </tr>\n",
       "  </thead>\n",
       "  <tbody>\n",
       "    <tr>\n",
       "      <th>0</th>\n",
       "      <td>0</td>\n",
       "      <td>0</td>\n",
       "      <td>0</td>\n",
       "      <td>0</td>\n",
       "      <td>0</td>\n",
       "      <td>0</td>\n",
       "      <td>0</td>\n",
       "      <td>0</td>\n",
       "      <td>0</td>\n",
       "      <td>0</td>\n",
       "      <td>...</td>\n",
       "      <td>0</td>\n",
       "      <td>0</td>\n",
       "      <td>0</td>\n",
       "      <td>0</td>\n",
       "      <td>0</td>\n",
       "      <td>0</td>\n",
       "      <td>0</td>\n",
       "      <td>0</td>\n",
       "      <td>0</td>\n",
       "      <td>0</td>\n",
       "    </tr>\n",
       "    <tr>\n",
       "      <th>1</th>\n",
       "      <td>0</td>\n",
       "      <td>0</td>\n",
       "      <td>0</td>\n",
       "      <td>0</td>\n",
       "      <td>0</td>\n",
       "      <td>0</td>\n",
       "      <td>0</td>\n",
       "      <td>0</td>\n",
       "      <td>0</td>\n",
       "      <td>0</td>\n",
       "      <td>...</td>\n",
       "      <td>0</td>\n",
       "      <td>0</td>\n",
       "      <td>0</td>\n",
       "      <td>0</td>\n",
       "      <td>0</td>\n",
       "      <td>0</td>\n",
       "      <td>0</td>\n",
       "      <td>0</td>\n",
       "      <td>0</td>\n",
       "      <td>0</td>\n",
       "    </tr>\n",
       "    <tr>\n",
       "      <th>2</th>\n",
       "      <td>0</td>\n",
       "      <td>0</td>\n",
       "      <td>0</td>\n",
       "      <td>0</td>\n",
       "      <td>0</td>\n",
       "      <td>0</td>\n",
       "      <td>0</td>\n",
       "      <td>0</td>\n",
       "      <td>0</td>\n",
       "      <td>0</td>\n",
       "      <td>...</td>\n",
       "      <td>0</td>\n",
       "      <td>0</td>\n",
       "      <td>0</td>\n",
       "      <td>0</td>\n",
       "      <td>0</td>\n",
       "      <td>0</td>\n",
       "      <td>0</td>\n",
       "      <td>0</td>\n",
       "      <td>0</td>\n",
       "      <td>0</td>\n",
       "    </tr>\n",
       "    <tr>\n",
       "      <th>3</th>\n",
       "      <td>0</td>\n",
       "      <td>0</td>\n",
       "      <td>0</td>\n",
       "      <td>0</td>\n",
       "      <td>0</td>\n",
       "      <td>0</td>\n",
       "      <td>0</td>\n",
       "      <td>0</td>\n",
       "      <td>0</td>\n",
       "      <td>0</td>\n",
       "      <td>...</td>\n",
       "      <td>0</td>\n",
       "      <td>0</td>\n",
       "      <td>0</td>\n",
       "      <td>0</td>\n",
       "      <td>0</td>\n",
       "      <td>0</td>\n",
       "      <td>0</td>\n",
       "      <td>0</td>\n",
       "      <td>0</td>\n",
       "      <td>0</td>\n",
       "    </tr>\n",
       "    <tr>\n",
       "      <th>4</th>\n",
       "      <td>0</td>\n",
       "      <td>0</td>\n",
       "      <td>0</td>\n",
       "      <td>0</td>\n",
       "      <td>0</td>\n",
       "      <td>0</td>\n",
       "      <td>0</td>\n",
       "      <td>0</td>\n",
       "      <td>0</td>\n",
       "      <td>0</td>\n",
       "      <td>...</td>\n",
       "      <td>0</td>\n",
       "      <td>0</td>\n",
       "      <td>0</td>\n",
       "      <td>0</td>\n",
       "      <td>0</td>\n",
       "      <td>0</td>\n",
       "      <td>0</td>\n",
       "      <td>0</td>\n",
       "      <td>0</td>\n",
       "      <td>0</td>\n",
       "    </tr>\n",
       "  </tbody>\n",
       "</table>\n",
       "<p>5 rows × 6878 columns</p>\n",
       "</div>"
      ],
      "text/plain": [
       "   00  000  000mg  025  05  07  08  10  100  1000  ...  zithromycin  zofran  \\\n",
       "0   0    0      0    0   0   0   0   0    0     0  ...            0       0   \n",
       "1   0    0      0    0   0   0   0   0    0     0  ...            0       0   \n",
       "2   0    0      0    0   0   0   0   0    0     0  ...            0       0   \n",
       "3   0    0      0    0   0   0   0   0    0     0  ...            0       0   \n",
       "4   0    0      0    0   0   0   0   0    0     0  ...            0       0   \n",
       "\n",
       "   zoloft  zombie  zombing  zomig  zone  zyban  zyprexa  zyrtec  \n",
       "0       0       0        0      0     0      0        0       0  \n",
       "1       0       0        0      0     0      0        0       0  \n",
       "2       0       0        0      0     0      0        0       0  \n",
       "3       0       0        0      0     0      0        0       0  \n",
       "4       0       0        0      0     0      0        0       0  \n",
       "\n",
       "[5 rows x 6878 columns]"
      ]
     },
     "execution_count": 20,
     "metadata": {},
     "output_type": "execute_result"
    }
   ],
   "source": [
    "bow_matrix = pd.DataFrame(pipe_result_1.toarray(), columns = names_bow)\n",
    "bow_matrix.head()"
   ]
  },
  {
   "cell_type": "markdown",
   "metadata": {},
   "source": [
    "For better demonstration we built a class for bag of words, which also returns us the names. With this we can build a dataframe which shows in for each row a document and the each column counts the appeareance of the word. As we see the result is a very sparse matrix. Also we notice that we just splitted the original corpus into sentences and applied directly a a bag of words algorithm on it. As result we also have strings / words as 00, 000mg and other values. For later tasks we may will clean this as well, but in this exercise it would be out of scope"
   ]
  },
  {
   "cell_type": "code",
   "execution_count": 21,
   "metadata": {},
   "outputs": [],
   "source": [
    "#Pipeline for TF-ID\n",
    "pipe_2 = Pipeline([\n",
    "                 (\"Sentences\", text2sentence()),\n",
    "                 (\"Flatten\", Flatten()),\n",
    "                 (\"TFID\", TF_ID())])"
   ]
  },
  {
   "cell_type": "code",
   "execution_count": 22,
   "metadata": {},
   "outputs": [],
   "source": [
    "pipe_result_2, names = pipe_2.fit_transform(X)"
   ]
  },
  {
   "cell_type": "code",
   "execution_count": 23,
   "metadata": {},
   "outputs": [],
   "source": [
    "document_term_matrix = pd.DataFrame(pipe_result_2.toarray(), columns = names)"
   ]
  },
  {
   "cell_type": "code",
   "execution_count": 24,
   "metadata": {},
   "outputs": [
    {
     "data": {
      "text/html": [
       "<div>\n",
       "<style scoped>\n",
       "    .dataframe tbody tr th:only-of-type {\n",
       "        vertical-align: middle;\n",
       "    }\n",
       "\n",
       "    .dataframe tbody tr th {\n",
       "        vertical-align: top;\n",
       "    }\n",
       "\n",
       "    .dataframe thead th {\n",
       "        text-align: right;\n",
       "    }\n",
       "</style>\n",
       "<table border=\"1\" class=\"dataframe\">\n",
       "  <thead>\n",
       "    <tr style=\"text-align: right;\">\n",
       "      <th></th>\n",
       "      <th>00</th>\n",
       "      <th>000</th>\n",
       "      <th>000mg</th>\n",
       "      <th>025</th>\n",
       "      <th>05</th>\n",
       "      <th>07</th>\n",
       "      <th>08</th>\n",
       "      <th>10</th>\n",
       "      <th>100</th>\n",
       "      <th>1000</th>\n",
       "      <th>...</th>\n",
       "      <th>zithromycin</th>\n",
       "      <th>zofran</th>\n",
       "      <th>zoloft</th>\n",
       "      <th>zombie</th>\n",
       "      <th>zombing</th>\n",
       "      <th>zomig</th>\n",
       "      <th>zone</th>\n",
       "      <th>zyban</th>\n",
       "      <th>zyprexa</th>\n",
       "      <th>zyrtec</th>\n",
       "    </tr>\n",
       "  </thead>\n",
       "  <tbody>\n",
       "    <tr>\n",
       "      <th>0</th>\n",
       "      <td>0.0</td>\n",
       "      <td>0.0</td>\n",
       "      <td>0.0</td>\n",
       "      <td>0.0</td>\n",
       "      <td>0.0</td>\n",
       "      <td>0.0</td>\n",
       "      <td>0.0</td>\n",
       "      <td>0.0</td>\n",
       "      <td>0.0</td>\n",
       "      <td>0.0</td>\n",
       "      <td>...</td>\n",
       "      <td>0.0</td>\n",
       "      <td>0.0</td>\n",
       "      <td>0.0</td>\n",
       "      <td>0.0</td>\n",
       "      <td>0.0</td>\n",
       "      <td>0.0</td>\n",
       "      <td>0.0</td>\n",
       "      <td>0.0</td>\n",
       "      <td>0.0</td>\n",
       "      <td>0.0</td>\n",
       "    </tr>\n",
       "    <tr>\n",
       "      <th>1</th>\n",
       "      <td>0.0</td>\n",
       "      <td>0.0</td>\n",
       "      <td>0.0</td>\n",
       "      <td>0.0</td>\n",
       "      <td>0.0</td>\n",
       "      <td>0.0</td>\n",
       "      <td>0.0</td>\n",
       "      <td>0.0</td>\n",
       "      <td>0.0</td>\n",
       "      <td>0.0</td>\n",
       "      <td>...</td>\n",
       "      <td>0.0</td>\n",
       "      <td>0.0</td>\n",
       "      <td>0.0</td>\n",
       "      <td>0.0</td>\n",
       "      <td>0.0</td>\n",
       "      <td>0.0</td>\n",
       "      <td>0.0</td>\n",
       "      <td>0.0</td>\n",
       "      <td>0.0</td>\n",
       "      <td>0.0</td>\n",
       "    </tr>\n",
       "    <tr>\n",
       "      <th>2</th>\n",
       "      <td>0.0</td>\n",
       "      <td>0.0</td>\n",
       "      <td>0.0</td>\n",
       "      <td>0.0</td>\n",
       "      <td>0.0</td>\n",
       "      <td>0.0</td>\n",
       "      <td>0.0</td>\n",
       "      <td>0.0</td>\n",
       "      <td>0.0</td>\n",
       "      <td>0.0</td>\n",
       "      <td>...</td>\n",
       "      <td>0.0</td>\n",
       "      <td>0.0</td>\n",
       "      <td>0.0</td>\n",
       "      <td>0.0</td>\n",
       "      <td>0.0</td>\n",
       "      <td>0.0</td>\n",
       "      <td>0.0</td>\n",
       "      <td>0.0</td>\n",
       "      <td>0.0</td>\n",
       "      <td>0.0</td>\n",
       "    </tr>\n",
       "    <tr>\n",
       "      <th>3</th>\n",
       "      <td>0.0</td>\n",
       "      <td>0.0</td>\n",
       "      <td>0.0</td>\n",
       "      <td>0.0</td>\n",
       "      <td>0.0</td>\n",
       "      <td>0.0</td>\n",
       "      <td>0.0</td>\n",
       "      <td>0.0</td>\n",
       "      <td>0.0</td>\n",
       "      <td>0.0</td>\n",
       "      <td>...</td>\n",
       "      <td>0.0</td>\n",
       "      <td>0.0</td>\n",
       "      <td>0.0</td>\n",
       "      <td>0.0</td>\n",
       "      <td>0.0</td>\n",
       "      <td>0.0</td>\n",
       "      <td>0.0</td>\n",
       "      <td>0.0</td>\n",
       "      <td>0.0</td>\n",
       "      <td>0.0</td>\n",
       "    </tr>\n",
       "    <tr>\n",
       "      <th>4</th>\n",
       "      <td>0.0</td>\n",
       "      <td>0.0</td>\n",
       "      <td>0.0</td>\n",
       "      <td>0.0</td>\n",
       "      <td>0.0</td>\n",
       "      <td>0.0</td>\n",
       "      <td>0.0</td>\n",
       "      <td>0.0</td>\n",
       "      <td>0.0</td>\n",
       "      <td>0.0</td>\n",
       "      <td>...</td>\n",
       "      <td>0.0</td>\n",
       "      <td>0.0</td>\n",
       "      <td>0.0</td>\n",
       "      <td>0.0</td>\n",
       "      <td>0.0</td>\n",
       "      <td>0.0</td>\n",
       "      <td>0.0</td>\n",
       "      <td>0.0</td>\n",
       "      <td>0.0</td>\n",
       "      <td>0.0</td>\n",
       "    </tr>\n",
       "  </tbody>\n",
       "</table>\n",
       "<p>5 rows × 6878 columns</p>\n",
       "</div>"
      ],
      "text/plain": [
       "    00  000  000mg  025   05   07   08   10  100  1000  ...  zithromycin  \\\n",
       "0  0.0  0.0    0.0  0.0  0.0  0.0  0.0  0.0  0.0   0.0  ...          0.0   \n",
       "1  0.0  0.0    0.0  0.0  0.0  0.0  0.0  0.0  0.0   0.0  ...          0.0   \n",
       "2  0.0  0.0    0.0  0.0  0.0  0.0  0.0  0.0  0.0   0.0  ...          0.0   \n",
       "3  0.0  0.0    0.0  0.0  0.0  0.0  0.0  0.0  0.0   0.0  ...          0.0   \n",
       "4  0.0  0.0    0.0  0.0  0.0  0.0  0.0  0.0  0.0   0.0  ...          0.0   \n",
       "\n",
       "   zofran  zoloft  zombie  zombing  zomig  zone  zyban  zyprexa  zyrtec  \n",
       "0     0.0     0.0     0.0      0.0    0.0   0.0    0.0      0.0     0.0  \n",
       "1     0.0     0.0     0.0      0.0    0.0   0.0    0.0      0.0     0.0  \n",
       "2     0.0     0.0     0.0      0.0    0.0   0.0    0.0      0.0     0.0  \n",
       "3     0.0     0.0     0.0      0.0    0.0   0.0    0.0      0.0     0.0  \n",
       "4     0.0     0.0     0.0      0.0    0.0   0.0    0.0      0.0     0.0  \n",
       "\n",
       "[5 rows x 6878 columns]"
      ]
     },
     "execution_count": 24,
     "metadata": {},
     "output_type": "execute_result"
    }
   ],
   "source": [
    "document_term_matrix.head()"
   ]
  },
  {
   "cell_type": "markdown",
   "metadata": {},
   "source": [
    "For better visualization of the result we constructed a data frame out of the TF-ID matrix. As we see above we are dealing with a very sparse matrix where most of the elements are zeros. As seen in the BoW we have again also numbers in our result. Again we have to mention here that in a later usage we not will keep them"
   ]
  },
  {
   "cell_type": "markdown",
   "metadata": {},
   "source": [
    "# Part B\n",
    "\n",
    "For the second part of the assignment we not directly use the same pipeline as we consotructed before. We will skip some steps and add some more. In detail we will skip the step splitting long strings into sentences. We have to remember that each row is a document and for each document we have predefined label. If we would split inside our documents the text into sentences we would have for each document a several lists"
   ]
  },
  {
   "cell_type": "markdown",
   "metadata": {},
   "source": [
    "#### Task 1"
   ]
  },
  {
   "cell_type": "markdown",
   "metadata": {},
   "source": [
    "#### Classification\n",
    "We construct two models for text classification. We are using the well known k-NN algorithm and AdaBoost. The hyperparameters are number of k and the number of estimators. The hyperparameter for each model is selected by the result of the validation curve\n",
    "\n",
    "Our hypothesis is, that we can classify the severity of side effects based on the review comment"
   ]
  },
  {
   "cell_type": "code",
   "execution_count": 25,
   "metadata": {},
   "outputs": [],
   "source": [
    "# a class which we will use to transform a sparse matrix into a easy readable numpy matrix\n",
    "# Just transform the input into a numpy array\n",
    "class NotSparse():\n",
    "    \n",
    "    def __init__(self):\n",
    "        return\n",
    "    def fit(self, X, y = None):\n",
    "        return self\n",
    "    def transform(self, X, y = None):\n",
    "        return X.toarray()"
   ]
  },
  {
   "cell_type": "markdown",
   "metadata": {},
   "source": [
    "The dataset we use comes already with at separated training and test part. So we will not apply a training test split"
   ]
  },
  {
   "cell_type": "code",
   "execution_count": 26,
   "metadata": {},
   "outputs": [],
   "source": [
    "drug_data_train = pd.read_csv('/Users/joel/Desktop/drugLib_raw/drugLibTrain_raw.tsv', sep='\\t')\n",
    "drug_data_test = pd.read_csv('/Users/joel/Desktop/drugLib_raw/drugLibTest_raw.tsv', sep='\\t')"
   ]
  },
  {
   "cell_type": "code",
   "execution_count": 27,
   "metadata": {},
   "outputs": [],
   "source": [
    "# map the strings to numerical labels\n",
    "effects_ground_truth = {\"No Side Effects\": 0, \"Mild Side Effects\": 1, \"Moderate Side Effects\": 2, \"Extremely Severe Side Effects\": 4, \"Severe Side Effects\": 3}\n",
    "ground_truth = drug_data_train['sideEffects'].map(effects_ground_truth)"
   ]
  },
  {
   "cell_type": "markdown",
   "metadata": {},
   "source": [
    "The dataset comes with a very unbalanced distribution of the side effects. To avoid this we will restrict the algorithm to just three classes. Mild and Moderate side effects will be one class and Serve and Extreme Side effects will build another class. No side effects will be untouched"
   ]
  },
  {
   "cell_type": "code",
   "execution_count": 28,
   "metadata": {},
   "outputs": [],
   "source": [
    "# map the strings to numerical labels\n",
    "effects = {\"No Side Effects\": 0, \"Mild Side Effects\": 1, \"Moderate Side Effects\": 1, \"Extremely Severe Side Effects\": 2, \"Severe Side Effects\": 2}\n",
    "y_label = drug_data_train['sideEffects'].map(effects)\n",
    "y_label_test = drug_data_test['sideEffects'].map(effects)"
   ]
  },
  {
   "cell_type": "code",
   "execution_count": 29,
   "metadata": {},
   "outputs": [
    {
     "data": {
      "image/png": "[encoded data removed]",
      "text/plain": [
       "<Figure size 432x288 with 1 Axes>"
      ]
     },
     "metadata": {
      "needs_background": "light"
     },
     "output_type": "display_data"
    }
   ],
   "source": [
    "unique, counts = np.unique(ground_truth, return_counts=True)\n",
    "frequence = dict(zip(unique, counts))\n",
    "\n",
    "f = np.array([frequence[0], frequence[1], frequence[2], frequence[3], frequence[4]])\n",
    "\n",
    "fig = plt.figure()\n",
    "ax = fig.add_axes([0,0,1,1])\n",
    "b = [\"0\", \"1\", \"2\", \"3\", \"4\"]\n",
    "h = f\n",
    "ax.bar(b,h)\n",
    "plt.show()"
   ]
  },
  {
   "cell_type": "code",
   "execution_count": 30,
   "metadata": {},
   "outputs": [
    {
     "data": {
      "image/png": "[encoded data removed]",
      "text/plain": [
       "<Figure size 432x288 with 1 Axes>"
      ]
     },
     "metadata": {
      "needs_background": "light"
     },
     "output_type": "display_data"
    }
   ],
   "source": [
    "unique, counts = np.unique(y_label, return_counts=True)\n",
    "frequence = dict(zip(unique, counts))\n",
    "\n",
    "f = np.array([frequence[0], frequence[1], frequence[2]])\n",
    "\n",
    "fig = plt.figure()\n",
    "ax = fig.add_axes([0,0,1,1])\n",
    "b = [\"0\", \"1\", \"2\"]\n",
    "h = f\n",
    "ax.bar(b,h)\n",
    "plt.show()"
   ]
  },
  {
   "cell_type": "markdown",
   "metadata": {},
   "source": [
    "The dataset is imbalanced. We have a lot of datapoints with no or just mild side effects, while just a few datapoints are corresponding to extreme side effects.\n",
    "We see the plots of the results before and after we changed the labels. Indeed the result is not perfect and labels are partly still imbalanced, but the result is already much better than before"
   ]
  },
  {
   "cell_type": "code",
   "execution_count": 31,
   "metadata": {},
   "outputs": [],
   "source": [
    "y_train = y_label.values\n",
    "y_test = y_label_test.values"
   ]
  },
  {
   "cell_type": "code",
   "execution_count": 32,
   "metadata": {},
   "outputs": [],
   "source": [
    "# creating the data\n",
    "X_train = drug_data_train['sideEffectsReview'].values\n",
    "X_test = drug_data_test['sideEffectsReview'].values"
   ]
  },
  {
   "cell_type": "markdown",
   "metadata": {},
   "source": [
    "#### Pipeline classification workflow\n",
    "\n",
    "The following workflow shows how the pipeline works.\n",
    "1. remove punctuations\n",
    "2. remove stopwords\n",
    "\n",
    "> After we removed punctuations and stopwords each document is a list of words. In the next step we have to merge the single documents into one corpus to apply transform it into a vector space model\n",
    "\n",
    "3. lower capitalized letters (We do this to avoid that the same word, where just the capitalized letter is the difference, is counted differently\n",
    "4. create a TF-ID matrix\n",
    "5. transfrom a sparse matrix into a numpy matrix (the TFID matrix is very sparse. To avoid memory problems the result is saved in a sparse format, this unfortunatelly does not allows directly to apply a ml algorithm. To avoid this we transform it into a numpy array)"
   ]
  },
  {
   "cell_type": "code",
   "execution_count": 33,
   "metadata": {},
   "outputs": [],
   "source": [
    "base_pipeline = Pipeline([(\"Remove_Punktuation\", CleanText()),\n",
    "                         (\"Stopwords\", Stop('english')),\n",
    "                         (\"Lower\", Lower()),\n",
    "                          (\"TFID\", TfidfVectorizer(analyzer='word')),\n",
    "                         (\"Matrix\", NotSparse())])"
   ]
  },
  {
   "cell_type": "code",
   "execution_count": 34,
   "metadata": {},
   "outputs": [],
   "source": [
    "X_processed = base_pipeline.fit_transform(X_train)"
   ]
  },
  {
   "cell_type": "code",
   "execution_count": 35,
   "metadata": {},
   "outputs": [
    {
     "data": {
      "text/plain": [
       "(3107, 6525)"
      ]
     },
     "execution_count": 35,
     "metadata": {},
     "output_type": "execute_result"
    }
   ],
   "source": [
    "X_processed.shape"
   ]
  },
  {
   "cell_type": "markdown",
   "metadata": {},
   "source": [
    "The pipeline returns a numpy array. Each row of the array is a document and each column counts the appereance of the term in the complete corpus (all the documents). We see that it results into a matrix with high dimension"
   ]
  },
  {
   "cell_type": "markdown",
   "metadata": {},
   "source": [
    "##### kNN Classifier\n",
    "For the classification we apply k neirest neighbor algorithm to our dataset. As hyperparamter we choose k the number of neighbors. The question we face is the optimal number of k. In the appendix (after this task we plotted the validation curve to find the right hyperparamter k)"
   ]
  },
  {
   "cell_type": "code",
   "execution_count": 36,
   "metadata": {},
   "outputs": [],
   "source": [
    "pipeline_kNN = Pipeline([(\"base\", base_pipeline),\n",
    "                        (\"kNN\", KNeighborsClassifier(algorithm = 'brute', n_neighbors = 17, n_jobs = 3))])"
   ]
  },
  {
   "cell_type": "code",
   "execution_count": 37,
   "metadata": {},
   "outputs": [
    {
     "data": {
      "text/plain": [
       "Pipeline(memory=None,\n",
       "         steps=[('base',\n",
       "                 Pipeline(memory=None,\n",
       "                          steps=[('Remove_Punktuation',\n",
       "                                  <__main__.CleanText object at 0x7fc940286e50>),\n",
       "                                 ('Stopwords',\n",
       "                                  <__main__.Stop object at 0x7fc940286a90>),\n",
       "                                 ('Lower',\n",
       "                                  <__main__.Lower object at 0x7fc940286c90>),\n",
       "                                 ('TFID',\n",
       "                                  TfidfVectorizer(analyzer='word', binary=False,\n",
       "                                                  decode_error='strict',\n",
       "                                                  dtype=<class 'numpy.float64'>,\n",
       "                                                  encoding='utf-8...\n",
       "                                                  stop_words=None,\n",
       "                                                  strip_accents=None,\n",
       "                                                  sublinear_tf=False,\n",
       "                                                  token_pattern='(?u)\\\\b\\\\w\\\\w+\\\\b',\n",
       "                                                  tokenizer=None, use_idf=True,\n",
       "                                                  vocabulary=None)),\n",
       "                                 ('Matrix',\n",
       "                                  <__main__.NotSparse object at 0x7fc9402866d0>)],\n",
       "                          verbose=False)),\n",
       "                ('kNN',\n",
       "                 KNeighborsClassifier(algorithm='brute', leaf_size=30,\n",
       "                                      metric='minkowski', metric_params=None,\n",
       "                                      n_jobs=3, n_neighbors=17, p=2,\n",
       "                                      weights='uniform'))],\n",
       "         verbose=False)"
      ]
     },
     "execution_count": 37,
     "metadata": {},
     "output_type": "execute_result"
    }
   ],
   "source": [
    "pipeline_kNN.fit(X_train, y_train)"
   ]
  },
  {
   "cell_type": "code",
   "execution_count": 38,
   "metadata": {},
   "outputs": [],
   "source": [
    "y_pred = pipeline_kNN.predict(X_test)"
   ]
  },
  {
   "cell_type": "code",
   "execution_count": 39,
   "metadata": {},
   "outputs": [
    {
     "data": {
      "text/plain": [
       "0.6206563706563707"
      ]
     },
     "execution_count": 39,
     "metadata": {},
     "output_type": "execute_result"
    }
   ],
   "source": [
    "pipeline_kNN.score(X_test, y_test)"
   ]
  },
  {
   "cell_type": "markdown",
   "metadata": {},
   "source": [
    "Achieved score of kNN"
   ]
  },
  {
   "cell_type": "code",
   "execution_count": 40,
   "metadata": {},
   "outputs": [
    {
     "name": "stdout",
     "output_type": "stream",
     "text": [
      "[[227  41   0]\n",
      " [168 396   2]\n",
      " [ 67 115  20]]\n"
     ]
    }
   ],
   "source": [
    "cm = confusion_matrix(y_test, y_pred)\n",
    "print(cm)"
   ]
  },
  {
   "cell_type": "code",
   "execution_count": 41,
   "metadata": {},
   "outputs": [
    {
     "data": {
      "text/plain": [
       "[]"
      ]
     },
     "execution_count": 41,
     "metadata": {},
     "output_type": "execute_result"
    },
    {
     "data": {
      "image/png": "[encoded data removed]",
      "text/plain": [
       "<Figure size 864x864 with 2 Axes>"
      ]
     },
     "metadata": {
      "needs_background": "light"
     },
     "output_type": "display_data"
    }
   ],
   "source": [
    "fig, ax = plt.subplots(figsize=(12, 12))\n",
    "plot_confusion_matrix(pipeline_kNN, X_test, y_test, display_labels = [0,1,2], ax=ax)\n",
    "plt.plot()"
   ]
  },
  {
   "cell_type": "code",
   "execution_count": 42,
   "metadata": {},
   "outputs": [
    {
     "name": "stdout",
     "output_type": "stream",
     "text": [
      "              precision    recall  f1-score   support\n",
      "\n",
      "           0       0.49      0.85      0.62       268\n",
      "           1       0.72      0.70      0.71       566\n",
      "           2       0.91      0.10      0.18       202\n",
      "\n",
      "    accuracy                           0.62      1036\n",
      "   macro avg       0.71      0.55      0.50      1036\n",
      "weighted avg       0.70      0.62      0.58      1036\n",
      "\n"
     ]
    }
   ],
   "source": [
    "print(classification_report(y_test, y_pred))"
   ]
  },
  {
   "cell_type": "markdown",
   "metadata": {},
   "source": [
    "The kNN algorithm achieves a high precision in classifying comments which are labeld with serve or extreme side effects. Unfortunately the recall for this labels is low. So we can conclude that we have a small false positive rate (means most serve / extreme side effects are classified correctly) but also a lot of comments which are false negative. When our model predicts serve or extreme side effects it is with 91% correct, but just 10% (recall) are correctly classified based on all comments. This tradeoff is better for labels 0 and 1"
   ]
  },
  {
   "cell_type": "markdown",
   "metadata": {},
   "source": [
    "#### Try with adaboost"
   ]
  },
  {
   "cell_type": "code",
   "execution_count": 43,
   "metadata": {},
   "outputs": [],
   "source": [
    "pipeline_ada = Pipeline([(\"base\", base_pipeline),\n",
    "                        (\"Ada\", AdaBoostClassifier(n_estimators = 20))])"
   ]
  },
  {
   "cell_type": "code",
   "execution_count": 44,
   "metadata": {},
   "outputs": [
    {
     "data": {
      "text/plain": [
       "Pipeline(memory=None,\n",
       "         steps=[('base',\n",
       "                 Pipeline(memory=None,\n",
       "                          steps=[('Remove_Punktuation',\n",
       "                                  <__main__.CleanText object at 0x7fc940286e50>),\n",
       "                                 ('Stopwords',\n",
       "                                  <__main__.Stop object at 0x7fc940286a90>),\n",
       "                                 ('Lower',\n",
       "                                  <__main__.Lower object at 0x7fc940286c90>),\n",
       "                                 ('TFID',\n",
       "                                  TfidfVectorizer(analyzer='word', binary=False,\n",
       "                                                  decode_error='strict',\n",
       "                                                  dtype=<class 'numpy.float64'>,\n",
       "                                                  encoding='utf-8...\n",
       "                                                  smooth_idf=True,\n",
       "                                                  stop_words=None,\n",
       "                                                  strip_accents=None,\n",
       "                                                  sublinear_tf=False,\n",
       "                                                  token_pattern='(?u)\\\\b\\\\w\\\\w+\\\\b',\n",
       "                                                  tokenizer=None, use_idf=True,\n",
       "                                                  vocabulary=None)),\n",
       "                                 ('Matrix',\n",
       "                                  <__main__.NotSparse object at 0x7fc9402866d0>)],\n",
       "                          verbose=False)),\n",
       "                ('Ada',\n",
       "                 AdaBoostClassifier(algorithm='SAMME.R', base_estimator=None,\n",
       "                                    learning_rate=1.0, n_estimators=20,\n",
       "                                    random_state=None))],\n",
       "         verbose=False)"
      ]
     },
     "execution_count": 44,
     "metadata": {},
     "output_type": "execute_result"
    }
   ],
   "source": [
    "pipeline_ada.fit(X_train, y_train)"
   ]
  },
  {
   "cell_type": "code",
   "execution_count": 45,
   "metadata": {},
   "outputs": [],
   "source": [
    "y_pred_ada = pipeline_ada.predict(X_test)"
   ]
  },
  {
   "cell_type": "code",
   "execution_count": 46,
   "metadata": {},
   "outputs": [
    {
     "data": {
      "text/plain": [
       "0.6891891891891891"
      ]
     },
     "execution_count": 46,
     "metadata": {},
     "output_type": "execute_result"
    }
   ],
   "source": [
    "pipeline_ada.score(X_test, y_test)"
   ]
  },
  {
   "cell_type": "code",
   "execution_count": 47,
   "metadata": {},
   "outputs": [
    {
     "name": "stdout",
     "output_type": "stream",
     "text": [
      "[[191  72   5]\n",
      " [ 67 454  45]\n",
      " [  8 125  69]]\n"
     ]
    }
   ],
   "source": [
    "cm2 = confusion_matrix(y_test, y_pred_ada)\n",
    "print(cm2)"
   ]
  },
  {
   "cell_type": "code",
   "execution_count": 48,
   "metadata": {},
   "outputs": [
    {
     "data": {
      "text/plain": [
       "[]"
      ]
     },
     "execution_count": 48,
     "metadata": {},
     "output_type": "execute_result"
    },
    {
     "data": {
      "image/png": "[encoded data removed]",
      "text/plain": [
       "<Figure size 864x864 with 2 Axes>"
      ]
     },
     "metadata": {
      "needs_background": "light"
     },
     "output_type": "display_data"
    }
   ],
   "source": [
    "fig, ax = plt.subplots(figsize=(12, 12))\n",
    "plot_confusion_matrix(pipeline_ada, X_test, y_test, display_labels = [0,1,2], ax=ax)\n",
    "plt.plot()"
   ]
  },
  {
   "cell_type": "code",
   "execution_count": 49,
   "metadata": {},
   "outputs": [
    {
     "name": "stdout",
     "output_type": "stream",
     "text": [
      "              precision    recall  f1-score   support\n",
      "\n",
      "           0       0.72      0.71      0.72       268\n",
      "           1       0.70      0.80      0.75       566\n",
      "           2       0.58      0.34      0.43       202\n",
      "\n",
      "    accuracy                           0.69      1036\n",
      "   macro avg       0.67      0.62      0.63      1036\n",
      "weighted avg       0.68      0.69      0.68      1036\n",
      "\n"
     ]
    }
   ],
   "source": [
    "print(classification_report(y_test, y_pred_ada))"
   ]
  },
  {
   "cell_type": "markdown",
   "metadata": {},
   "source": [
    "Above we see the result of the adaboost algorithm. For label 2 (Serve / Extreme Side effects) the kNN achieved a higher precision. We are in an interesting situation since recall is for adaboost for label 2 significantly higher than for the kNN. Therefor if adaboost classify data with label 2 in just 58% of the cases is correct, but 34% of all the serve / extreme side effects reviews are classified correcty. In general we can say that adaboost performs better because for label 0 and 1 precision and recall are higher.\n",
    "If we focuse on the accuracy we see that the adaboost performs better than the kNN."
   ]
  },
  {
   "cell_type": "markdown",
   "metadata": {},
   "source": [
    "# Appendix\n",
    "\n",
    "Code is taken from: https://scikit-learn.org/stable/auto_examples/model_selection/plot_validation_curve.html#sphx-glr-auto-examples-model-selection-plot-validation-curve-py\n",
    "\n",
    "The code was modified to meet the requirements here. Depending on the system it can take time to run the code (For a MacBook Air (Intel) ~20min) "
   ]
  },
  {
   "cell_type": "markdown",
   "metadata": {},
   "source": [
    "## Right hyperparameter kNN"
   ]
  },
  {
   "cell_type": "code",
   "execution_count": 50,
   "metadata": {},
   "outputs": [],
   "source": [
    "from sklearn.model_selection import validation_curve"
   ]
  },
  {
   "cell_type": "code",
   "execution_count": 51,
   "metadata": {},
   "outputs": [],
   "source": [
    "k = np.array(range(1, 25, 2))"
   ]
  },
  {
   "cell_type": "code",
   "execution_count": 52,
   "metadata": {},
   "outputs": [
    {
     "data": {
      "text/plain": [
       "array([ 1,  3,  5,  7,  9, 11, 13, 15, 17, 19, 21, 23])"
      ]
     },
     "execution_count": 52,
     "metadata": {},
     "output_type": "execute_result"
    }
   ],
   "source": [
    "k"
   ]
  },
  {
   "cell_type": "code",
   "execution_count": 53,
   "metadata": {},
   "outputs": [],
   "source": [
    "train_scores, valid_scores = validation_curve(KNeighborsClassifier(n_jobs = 3), X_processed, y_train, \"n_neighbors\", k, cv=3)"
   ]
  },
  {
   "cell_type": "code",
   "execution_count": 54,
   "metadata": {},
   "outputs": [],
   "source": [
    "train_scores_mean = np.mean(train_scores, axis=1)\n",
    "train_scores_std = np.std(train_scores, axis=1)\n",
    "test_scores_mean = np.mean(valid_scores, axis=1)\n",
    "test_scores_std = np.std(valid_scores, axis=1)"
   ]
  },
  {
   "cell_type": "code",
   "execution_count": 55,
   "metadata": {},
   "outputs": [
    {
     "data": {
      "image/png": "[encoded data removed]",
      "text/plain": [
       "<Figure size 432x288 with 1 Axes>"
      ]
     },
     "metadata": {
      "needs_background": "light"
     },
     "output_type": "display_data"
    }
   ],
   "source": [
    "plt.title(\"Validation Curve with kNN\")\n",
    "plt.xlabel(\"K\")\n",
    "plt.ylabel(\"Score\")\n",
    "plt.ylim(0.0, 1.1)\n",
    "lw = 2\n",
    "plt.plot(k, train_scores_mean, label=\"Training score\",\n",
    "             color=\"darkorange\", lw=lw)\n",
    "plt.fill_between(k, train_scores_mean - train_scores_std,\n",
    "                 train_scores_mean + train_scores_std, alpha=0.2,\n",
    "                 color=\"darkorange\", lw=lw)\n",
    "plt.plot(k, test_scores_mean, label=\"Cross-validation score\",\n",
    "             color=\"navy\", lw=lw)\n",
    "plt.fill_between(k, test_scores_mean - test_scores_std,\n",
    "                 test_scores_mean + test_scores_std, alpha=0.2,\n",
    "                 color=\"navy\", lw=lw)\n",
    "plt.legend(loc=\"best\")\n",
    "plt.show()"
   ]
  },
  {
   "cell_type": "markdown",
   "metadata": {},
   "source": [
    "## Right hyperparameter Random Forrest"
   ]
  },
  {
   "cell_type": "code",
   "execution_count": 56,
   "metadata": {},
   "outputs": [],
   "source": [
    "tree = np.array(range(1, 25))"
   ]
  },
  {
   "cell_type": "code",
   "execution_count": 57,
   "metadata": {},
   "outputs": [
    {
     "data": {
      "image/png": "[encoded data removed]",
      "text/plain": [
       "<Figure size 432x288 with 1 Axes>"
      ]
     },
     "metadata": {
      "needs_background": "light"
     },
     "output_type": "display_data"
    }
   ],
   "source": [
    "train_scores, valid_scores = validation_curve(AdaBoostClassifier(), X_processed, y_train, \"n_estimators\", tree, cv=3)\n",
    "\n",
    "train_scores_mean = np.mean(train_scores, axis=1)\n",
    "train_scores_std = np.std(train_scores, axis=1)\n",
    "test_scores_mean = np.mean(valid_scores, axis=1)\n",
    "test_scores_std = np.std(valid_scores, axis=1)\n",
    "\n",
    "plt.title(\"Validation Curve with Adaboos\")\n",
    "plt.xlabel(\"Number of Decision stumps\")\n",
    "plt.ylabel(\"Score\")\n",
    "plt.ylim(0.0, 1.1)\n",
    "lw = 2\n",
    "plt.plot(tree, train_scores_mean, label=\"Training score\",\n",
    "             color=\"darkorange\", lw=lw)\n",
    "plt.fill_between(tree, train_scores_mean - train_scores_std,\n",
    "                 train_scores_mean + train_scores_std, alpha=0.2,\n",
    "                 color=\"darkorange\", lw=lw)\n",
    "plt.plot(tree, test_scores_mean, label=\"Cross-validation score\",\n",
    "             color=\"navy\", lw=lw)\n",
    "plt.fill_between(tree, test_scores_mean - test_scores_std,\n",
    "                 test_scores_mean + test_scores_std, alpha=0.2,\n",
    "                 color=\"navy\", lw=lw)\n",
    "plt.legend(loc=\"best\")\n",
    "plt.show()"
   ]
  },
  {
   "cell_type": "markdown",
   "metadata": {},
   "source": [
    "#### Clustering\n",
    "\n",
    "It can be interesting to cluster comments by the side effect. So we could with out knowing the serverity on a scale we could gain this information just by clustering the comment into a category.\n",
    "To perform clustering we use the same base pipeline as for classification. For clustering itself we are using the K-Means algorithm. We decide to use three predifined clusters as already in the classification task"
   ]
  },
  {
   "cell_type": "code",
   "execution_count": 58,
   "metadata": {},
   "outputs": [
    {
     "data": {
      "text/plain": [
       "array([0, 1, 2])"
      ]
     },
     "execution_count": 58,
     "metadata": {},
     "output_type": "execute_result"
    }
   ],
   "source": [
    "# labels (just to remember)\n",
    "np.unique(y_train)"
   ]
  },
  {
   "cell_type": "code",
   "execution_count": 64,
   "metadata": {},
   "outputs": [],
   "source": [
    "pipeline_kMean = Pipeline([(\"base\", base_pipeline),\n",
    "                        (\"k-Means\", KMeans(n_clusters = 3, random_state = 42))])"
   ]
  },
  {
   "cell_type": "code",
   "execution_count": 65,
   "metadata": {},
   "outputs": [
    {
     "data": {
      "text/plain": [
       "Pipeline(memory=None,\n",
       "         steps=[('base',\n",
       "                 Pipeline(memory=None,\n",
       "                          steps=[('Remove_Punktuation',\n",
       "                                  <__main__.CleanText object at 0x7fc940286e50>),\n",
       "                                 ('Stopwords',\n",
       "                                  <__main__.Stop object at 0x7fc940286a90>),\n",
       "                                 ('Lower',\n",
       "                                  <__main__.Lower object at 0x7fc940286c90>),\n",
       "                                 ('TFID',\n",
       "                                  TfidfVectorizer(analyzer='word', binary=False,\n",
       "                                                  decode_error='strict',\n",
       "                                                  dtype=<class 'numpy.float64'>,\n",
       "                                                  encoding='utf-8...\n",
       "                                                  sublinear_tf=False,\n",
       "                                                  token_pattern='(?u)\\\\b\\\\w\\\\w+\\\\b',\n",
       "                                                  tokenizer=None, use_idf=True,\n",
       "                                                  vocabulary=None)),\n",
       "                                 ('Matrix',\n",
       "                                  <__main__.NotSparse object at 0x7fc9402866d0>)],\n",
       "                          verbose=False)),\n",
       "                ('k-Means',\n",
       "                 KMeans(algorithm='auto', copy_x=True, init='k-means++',\n",
       "                        max_iter=300, n_clusters=3, n_init=10, n_jobs=None,\n",
       "                        precompute_distances='auto', random_state=42,\n",
       "                        tol=0.0001, verbose=0))],\n",
       "         verbose=False)"
      ]
     },
     "execution_count": 65,
     "metadata": {},
     "output_type": "execute_result"
    }
   ],
   "source": [
    "pipeline_kMean.fit(X_train)"
   ]
  },
  {
   "cell_type": "code",
   "execution_count": 66,
   "metadata": {},
   "outputs": [],
   "source": [
    "y_cluster_pred = pipeline_kMean.predict(X_train)"
   ]
  },
  {
   "cell_type": "markdown",
   "metadata": {},
   "source": [
    "The k-Means algorithm returns a vector with the corresponding class for each document."
   ]
  },
  {
   "cell_type": "code",
   "execution_count": 67,
   "metadata": {},
   "outputs": [
    {
     "data": {
      "text/plain": [
       "array([0, 0, 0, 0, 0, 0, 0, 1, 0, 0, 0, 0, 2, 0, 0, 2, 0, 0, 0, 0],\n",
       "      dtype=int32)"
      ]
     },
     "execution_count": 67,
     "metadata": {},
     "output_type": "execute_result"
    }
   ],
   "source": [
    "y_cluster_pred[0:20]"
   ]
  },
  {
   "cell_type": "markdown",
   "metadata": {},
   "source": [
    "Above we see the result for the first 20 documents of the clustering algorithm"
   ]
  },
  {
   "cell_type": "code",
   "execution_count": 68,
   "metadata": {},
   "outputs": [
    {
     "data": {
      "image/png": "[encoded data removed]",
      "text/plain": [
       "<Figure size 432x288 with 1 Axes>"
      ]
     },
     "metadata": {
      "needs_background": "light"
     },
     "output_type": "display_data"
    }
   ],
   "source": [
    "unique_kmean, counts_kmean = np.unique(y_cluster_pred, return_counts=True)\n",
    "frequence_kmean = dict(zip(unique_kmean, counts_kmean))\n",
    "\n",
    "f = np.array([frequence_kmean[0], frequence_kmean[1], frequence_kmean[2]])\n",
    "\n",
    "fig = plt.figure()\n",
    "ax = fig.add_axes([0,0,1,1])\n",
    "b = [\"0\", \"1\", \"2\"]\n",
    "h = f\n",
    "ax.bar(b,h)\n",
    "plt.show()"
   ]
  },
  {
   "cell_type": "markdown",
   "metadata": {},
   "source": [
    "If we plot the number of documents for each cluster, we see that most documents belong to the cluster, which we labeld with 0. Here the result is very different from the ground truth. Therefor we can conclude the k-Means we used in our approach does not work very well"
   ]
  },
  {
   "cell_type": "markdown",
   "metadata": {},
   "source": [
    "#### Task 2: Topic modelling"
   ]
  },
  {
   "cell_type": "markdown",
   "metadata": {},
   "source": [
    "For topic modeling we are using the Latent Dirichlet Allocation. Our idea is to use our corpus and find topics to them. Again we are using for the preprocessing our base pipeline. The result of the basepipeline will be fitted into the LDA algorithm. In our base pipeline we remove the TFID part and add it later manually. We do this beacause we also need to extract the names for building the vocabulary"
   ]
  },
  {
   "cell_type": "code",
   "execution_count": 69,
   "metadata": {},
   "outputs": [],
   "source": [
    "lda_pipeline = Pipeline([(\"Remove_Punktuation\", CleanText()),\n",
    "                         (\"Stopwords\", Stop('english')),\n",
    "                         (\"Lower\", Lower())])"
   ]
  },
  {
   "cell_type": "code",
   "execution_count": 70,
   "metadata": {},
   "outputs": [
    {
     "data": {
      "text/plain": [
       "Pipeline(memory=None,\n",
       "         steps=[('Remove_Punktuation',\n",
       "                 <__main__.CleanText object at 0x7fc9406b4310>),\n",
       "                ('Stopwords', <__main__.Stop object at 0x7fc9406b4650>),\n",
       "                ('Lower', <__main__.Lower object at 0x7fc9406b4190>)],\n",
       "         verbose=False)"
      ]
     },
     "execution_count": 70,
     "metadata": {},
     "output_type": "execute_result"
    }
   ],
   "source": [
    "lda_pipeline.fit(X_train)"
   ]
  },
  {
   "cell_type": "code",
   "execution_count": 71,
   "metadata": {},
   "outputs": [],
   "source": [
    "X_lda = lda_pipeline.transform(X_train)"
   ]
  },
  {
   "cell_type": "code",
   "execution_count": 72,
   "metadata": {},
   "outputs": [
    {
     "data": {
      "text/plain": [
       "'heavy cycle cramps hot flashes fatigue long lasting cycles it months concidering changing different bc this first time using kind bc unfortunately due constant hassel happy results'"
      ]
     },
     "execution_count": 72,
     "metadata": {},
     "output_type": "execute_result"
    }
   ],
   "source": [
    "X_lda[1]"
   ]
  },
  {
   "cell_type": "markdown",
   "metadata": {},
   "source": [
    "The pipeline returns a matrix of documents which are now preprocessed based on the steps in the pipleline"
   ]
  },
  {
   "cell_type": "code",
   "execution_count": 73,
   "metadata": {},
   "outputs": [],
   "source": [
    "tfid = TfidfVectorizer(analyzer='word', lowercase = False)\n",
    "X_dt_matrix = tfid.fit_transform(X_lda)"
   ]
  },
  {
   "cell_type": "code",
   "execution_count": 74,
   "metadata": {},
   "outputs": [],
   "source": [
    "voc = np.array(tfid.get_feature_names())"
   ]
  },
  {
   "cell_type": "markdown",
   "metadata": {},
   "source": [
    "We will extract 10 topics from the collection of documents. The maximum number of iteration is 100"
   ]
  },
  {
   "cell_type": "code",
   "execution_count": 75,
   "metadata": {},
   "outputs": [],
   "source": [
    "n = 10\n",
    "lda = LatentDirichletAllocation(n_components = n, max_iter=100)"
   ]
  },
  {
   "cell_type": "code",
   "execution_count": 76,
   "metadata": {},
   "outputs": [],
   "source": [
    "topics = lda.fit_transform(X_dt_matrix)"
   ]
  },
  {
   "cell_type": "code",
   "execution_count": 77,
   "metadata": {},
   "outputs": [
    {
     "name": "stderr",
     "output_type": "stream",
     "text": [
      "/Library/Frameworks/Python.framework/Versions/3.7/lib/python3.7/site-packages/ipykernel_launcher.py:9: FutureWarning: Passing a negative integer is deprecated in version 1.0 and will not be supported in future version. Instead, use None to not limit the column width.\n",
      "  if __name__ == '__main__':\n"
     ]
    },
    {
     "data": {
      "text/html": [
       "<div>\n",
       "<style scoped>\n",
       "    .dataframe tbody tr th:only-of-type {\n",
       "        vertical-align: middle;\n",
       "    }\n",
       "\n",
       "    .dataframe tbody tr th {\n",
       "        vertical-align: top;\n",
       "    }\n",
       "\n",
       "    .dataframe thead th {\n",
       "        text-align: right;\n",
       "    }\n",
       "</style>\n",
       "<table border=\"1\" class=\"dataframe\">\n",
       "  <thead>\n",
       "    <tr style=\"text-align: right;\">\n",
       "      <th></th>\n",
       "      <th>Term per Topic</th>\n",
       "    </tr>\n",
       "  </thead>\n",
       "  <tbody>\n",
       "    <tr>\n",
       "      <th>Topic1</th>\n",
       "      <td>thirst, increased, annoying, urination, vomiting</td>\n",
       "    </tr>\n",
       "    <tr>\n",
       "      <th>Topic2</th>\n",
       "      <td>subsided, hyperactivity, apparent, strong, gastrointestinal</td>\n",
       "    </tr>\n",
       "    <tr>\n",
       "      <th>Topic3</th>\n",
       "      <td>none, noticed, far, tell, really</td>\n",
       "    </tr>\n",
       "    <tr>\n",
       "      <th>Topic4</th>\n",
       "      <td>side, effects, taking, the, drug</td>\n",
       "    </tr>\n",
       "    <tr>\n",
       "      <th>Topic5</th>\n",
       "      <td>weight, gain, stomach, constipation, dizziness</td>\n",
       "    </tr>\n",
       "    <tr>\n",
       "      <th>Topic6</th>\n",
       "      <td>noted, weakness, tolerated, well, motivation</td>\n",
       "    </tr>\n",
       "    <tr>\n",
       "      <th>Topic7</th>\n",
       "      <td>agitation, damage, sleeplessness, insomnia, afternoon</td>\n",
       "    </tr>\n",
       "    <tr>\n",
       "      <th>Topic8</th>\n",
       "      <td>aware, see, sleepiness, migraines, dysfunction</td>\n",
       "    </tr>\n",
       "    <tr>\n",
       "      <th>Topic9</th>\n",
       "      <td>tiredness, occassional, moody, hungry, dependency</td>\n",
       "    </tr>\n",
       "    <tr>\n",
       "      <th>Topic10</th>\n",
       "      <td>skin, dry, peeling, dryness, redness</td>\n",
       "    </tr>\n",
       "  </tbody>\n",
       "</table>\n",
       "</div>"
      ],
      "text/plain": [
       "                                                      Term per Topic\n",
       "Topic1   thirst, increased, annoying, urination, vomiting           \n",
       "Topic2   subsided, hyperactivity, apparent, strong, gastrointestinal\n",
       "Topic3   none, noticed, far, tell, really                           \n",
       "Topic4   side, effects, taking, the, drug                           \n",
       "Topic5   weight, gain, stomach, constipation, dizziness             \n",
       "Topic6   noted, weakness, tolerated, well, motivation               \n",
       "Topic7   agitation, damage, sleeplessness, insomnia, afternoon      \n",
       "Topic8   aware, see, sleepiness, migraines, dysfunction             \n",
       "Topic9   tiredness, occassional, moody, hungry, dependency          \n",
       "Topic10  skin, dry, peeling, dryness, redness                       "
      ]
     },
     "execution_count": 77,
     "metadata": {},
     "output_type": "execute_result"
    }
   ],
   "source": [
    "# we are using just 5 topic terms since most reviews are short\n",
    "# this code is based on the example from the lecture\n",
    "\n",
    "topic_terms=lda.components_\n",
    "top_terms=5 \n",
    "topic_key_terms_idxs=np.argsort(-np.absolute(topic_terms), axis=1)[:,:top_terms]\n",
    "topic_keyterms=voc[topic_key_terms_idxs]\n",
    "topics=[', '.join(topic) for topic in topic_keyterms]\n",
    "pd.set_option('display.max_colwidth',-1)\n",
    "topics_df=pd.DataFrame(topics,columns=['Term per Topic'], index=['Topic'+str(t) for t in range(1,n+1)])\n",
    "topics_df"
   ]
  },
  {
   "cell_type": "markdown",
   "metadata": {},
   "source": [
    "The dataframe above shows the result. In the first column we see the topic and in the second column we see the terms which are assosiated with the topic"
   ]
  },
  {
   "cell_type": "code",
   "execution_count": 78,
   "metadata": {},
   "outputs": [],
   "source": [
    "# this code part is taken from scikit-learn and just visualize the result of the dataframe above\n",
    "def plot_top_words(model, feature_names, n_top_words, title):\n",
    "    fig, axes = plt.subplots(2, 5, figsize=(30, 15), sharex=True)\n",
    "    axes = axes.flatten()\n",
    "    for topic_idx, topic in enumerate(model.components_):\n",
    "        top_features_ind = topic.argsort()[:-n_top_words - 1:-1]\n",
    "        top_features = [feature_names[i] for i in top_features_ind]\n",
    "        weights = topic[top_features_ind]\n",
    "\n",
    "        ax = axes[topic_idx]\n",
    "        ax.barh(top_features, weights, height=0.7)\n",
    "        ax.set_title(f'Topic {topic_idx +1}',\n",
    "                     fontdict={'fontsize': 30})\n",
    "        ax.invert_yaxis()\n",
    "        ax.tick_params(axis='both', which='major', labelsize=20)\n",
    "        for i in 'top right left'.split():\n",
    "            ax.spines[i].set_visible(False)\n",
    "        fig.suptitle(title, fontsize=40)\n",
    "\n",
    "    plt.subplots_adjust(top=0.90, bottom=0.05, wspace=0.90, hspace=0.3)\n",
    "    plt.show()\n"
   ]
  },
  {
   "cell_type": "code",
   "execution_count": 79,
   "metadata": {},
   "outputs": [
    {
     "data": {
      "image/png": "[encoded data removed]",
      "text/plain": [
       "<Figure size 2160x1080 with 10 Axes>"
      ]
     },
     "metadata": {
      "needs_background": "light"
     },
     "output_type": "display_data"
    }
   ],
   "source": [
    "n_top_words = 5\n",
    "plot_top_words(lda, voc, n_top_words, 'Topics in LDA model')"
   ]
  },
  {
   "cell_type": "markdown",
   "metadata": {},
   "source": [
    "Above we see the result of the lda. What we see is that most topics describes a sickness or side effects. Our dataset is about one big topic. Side effects. Thats why also we just extract terms to topics which are related to side effects or describe a part of the body which is effected to side effects"
   ]
  },
  {
   "cell_type": "markdown",
   "metadata": {},
   "source": [
    "#### Task 3: Document summarisation"
   ]
  },
  {
   "cell_type": "markdown",
   "metadata": {},
   "source": [
    "To perform document summarization we are using the genesis chapter from the bible. The dataset was downloaded from Kaggle and can be found under the following link: https://www.kaggle.com/nltkdata/genesis.\n",
    "Especially we use the english web file. The alternative would be to use the King James version of the bible. But here we have to take into account that special characters are included like \";\". Another thing is that the sentences are written in an older style which can cause troubles if we use models which use data trained on modern english"
   ]
  },
  {
   "cell_type": "code",
   "execution_count": 80,
   "metadata": {},
   "outputs": [],
   "source": [
    "bible = open(\"/Users/joel/Downloads/genesis/english-web.txt\", \"r\")\n",
    "genesis = bible.read(7500)"
   ]
  },
  {
   "cell_type": "code",
   "execution_count": 81,
   "metadata": {},
   "outputs": [
    {
     "name": "stdout",
     "output_type": "stream",
     "text": [
      "In the beginning God created the heavens and the earth.\n",
      "Now the earth was formless and empty.  Darkness was on the surface\n",
      "of the deep.  God's Spirit was hovering over the surface\n",
      "of the waters.\n",
      "God said, \"Let there be light,\" and there was light.\n",
      "God saw the light, and saw that it was good.  God divided\n",
      "the light from the darkness.\n",
      "God called the light Day, and the darkness he called Night.\n",
      "There was evening and there was morning, one day.\n",
      "God said, \"Let there be an expanse in the middle of the waters,\n",
      "and let it divide the waters from the waters.\"\n",
      "God made the expanse, and divided the waters which were under\n",
      "the expanse from the waters which were above the expanse;\n",
      "and it was so.\n",
      "God called the expanse sky.  There was evening and there\n",
      "was morning, a second day.\n",
      "God said, \"Let the waters under the sky be gathered together\n",
      "to one place, and let the dry land appear;\" and it was so.\n",
      "God called the dry land Earth, and the gathering together\n",
      "of the waters he called Seas.  God saw that it was good.\n",
      "God said, \"Let the earth put forth grass, herbs yielding seed,\n",
      "and fruit trees bearing fruit after their kind, with its seed\n",
      "in it, on the earth;\" and it was so.\n",
      "The earth brought forth grass, herbs yielding seed after their kind,\n",
      "and trees bearing fruit, with its seed in it, after their kind;\n",
      "and God saw that it was good.\n",
      "There was evening and there was morning, a third day.\n",
      "God said, \"Let there be lights in the expanse of sky to\n",
      "divide the day from the night; and let them be for signs,\n",
      "and for seasons, and for days and years;\n",
      "and let them be for lights in the expanse of sky to give light\n",
      "on the earth;\" and it was so.\n",
      "God made the two great lights:  the greater light to rule\n",
      "the day, and the lesser light to rule the night.\n",
      "He also made the stars.\n",
      "God set them in the expanse of sky to give light to the earth,\n",
      "and to rule over the day and over the night, and to divide\n",
      "the light from the darkness.  God saw that it was good.\n",
      "There was evening and there was morning, a fourth day.\n",
      "God said, \"Let the waters swarm with swarms of living creatures,\n",
      "and let birds fly above the earth in the open expanse of sky.\"\n",
      "God created the large sea creatures, and every living\n",
      "creature that moves, with which the waters swarmed,\n",
      "after their kind, and every winged bird after its kind.\n",
      "God saw that it was good.\n",
      "God blessed them, saying, \"Be fruitful, and multiply, and fill\n",
      "the waters in the seas, and let birds multiply on the earth.\"\n",
      "There was evening and there was morning, a fifth day.\n",
      "God said, \"Let the earth bring forth living creatures after\n",
      "their kind, livestock, creeping things, and animals of the earth\n",
      "after their kind;\" and it was so.\n",
      "God made the animals of the earth after their kind,\n",
      "and the livestock after their kind, and everything that creeps\n",
      "on the ground after its kind.  God saw that it was good.\n",
      "God said, \"Let us make man in our image, after our likeness:\n",
      "and let them have dominion over the fish of the sea,\n",
      "and over the birds of the sky, and over the livestock,\n",
      "and over all the earth, and over every creeping thing that\n",
      "creeps on the earth.\"\n",
      "God created man in his own image.  In God's image he created him;\n",
      "male and female he created them.\n",
      "God blessed them.  God said to them, \"Be fruitful, multiply,\n",
      "fill the earth, and subdue it.  Have dominion over the fish\n",
      "of the sea, over the birds of the sky, and over every living\n",
      "thing that moves on the earth.\"\n",
      "God said, \"Behold, I have given you every herb yielding seed,\n",
      "which is on the surface of all the earth, and every tree,\n",
      "which bears fruit yielding seed.  It will be your food.\n",
      "To every animal of the earth, and to every bird of the sky,\n",
      "and to everything that creeps on the earth, in which there is life,\n",
      "I have given every green herb for food;\" and it was so.\n",
      "God saw everything that he had made, and, behold, it was very good.\n",
      "There was evening and there was morning, a sixth day.\n",
      "The heavens and the earth were finished, and all their vast array.\n",
      "On the seventh day God finished his work which he had made;\n",
      "and he rested on the seventh day from all his work which\n",
      "he had made.\n",
      "God blessed the seventh day, and made it holy, because he rested\n",
      "in it from all his work which he had created and made.\n",
      "This is the history of the generations of the heavens and of\n",
      "the earth when they were created, in the day that Yahweh God\n",
      "made the earth and the heavens.\n",
      "No plant of the field was yet in the earth, and no herb of\n",
      "the field had yet sprung up; for Yahweh God had not caused it\n",
      "to rain on the earth.  There was not a man to till the ground,\n",
      "but a mist went up from the earth, and watered the whole\n",
      "surface of the ground.\n",
      "Yahweh God formed man from the dust of the ground,\n",
      "and breathed into his nostrils the breath of life; and man\n",
      "became a living soul.\n",
      "Yahweh God planted a garden eastward, in Eden, and there he put\n",
      "the man whom he had formed.\n",
      "Out of the ground Yahweh God made every tree to grow that is\n",
      "pleasant to the sight, and good for food; the tree of life\n",
      "also in the middle of the garden, and the tree of the knowledge\n",
      "of good and evil.\n",
      "A river went out of Eden to water the garden; and from there\n",
      "it was parted, and became four heads.\n",
      "The name of the first is Pishon:  this is the one which flows\n",
      "through the whole land of Havilah, where there is gold;\n",
      "and the gold of that land is good.  There is aromatic resin\n",
      "and the onyx stone.\n",
      "The name of the second river is Gihon:  the same river that flows\n",
      "through the whole land of Cush.\n",
      "The name of the third river is Hiddekel:  this is the one which\n",
      "flows in front of Assyria.  The fourth river is the Euphrates.\n",
      "Yahweh God took the man, and put him into the garden of Eden\n",
      "to dress it and to keep it.\n",
      "Yahweh God commanded the man, saying, \"Of every tree of the garden\n",
      "you may freely eat;\n",
      "but of the tree of the knowledge of good and evil, you shall\n",
      "not eat of it; for in the day that you eat of it you\n",
      "will surely die.\"\n",
      "Yahweh God said, \"It is not good that the man should be alone;\n",
      "I will make him a helper suitable for him.\"\n",
      "Out of the ground Yahweh God formed every animal of the field,\n",
      "and every bird of the sky, and brought them to the man to see\n",
      "what he would call them.  Whatever the man called every\n",
      "living creature, that was its name.\n",
      "The man gave names to all livestock, and to the birds of the sky,\n",
      "and to every animal of the field; but for man there was not\n",
      "found a helper suitable for him.\n",
      "Yahweh God caused a deep sleep to fall on the man, and he slept;\n",
      "and he took one of his ribs, and closed up the flesh\n",
      "in its place.\n",
      "He made the rib, which Yahweh God had taken from the man,\n",
      "into a woman, and brought her to the man.\n",
      "The man said, \"This is now bone of my bones, and flesh of my flesh.\n",
      "She will be called Woman, because she was taken out of Man.\"\n",
      "Therefore a man will leave his father and his mother,\n",
      "and will join with his wife, and they will be one flesh.\n",
      "They were both naked, the man and his wife, and were not ashamed.\n",
      "Now the serpent was more subtle than any animal of the field\n",
      "which Yahweh God had made.  He said to the woman, \"Has God\n",
      "really said, 'You shall not eat of any tree of the garden?'\"\n",
      "The woman said to the serpent, \"Of the fruit of the trees\n",
      "of the garden we may eat,\n",
      "but of the fruit of the tree which is in the middle of the garden,\n",
      "God has said, 'You shall not eat of it, neither shall you\n",
      "touch it, lest you die.'\"\n",
      "The serpent said to the woman, \"You won't surely die,\n",
      "for God knows that in the day you eat it, your eyes will be opened,\n",
      "and you will be like God, knowing good and evil.\"\n",
      "When the woman saw that the \n"
     ]
    }
   ],
   "source": [
    "print(genesis)"
   ]
  },
  {
   "cell_type": "markdown",
   "metadata": {},
   "source": [
    "Above we see the genesis chapter. As we see the chapter contains many characters. We will now use TextRank, a variation of the PageRank algorithm, to extract keywords out of the chapter"
   ]
  },
  {
   "cell_type": "code",
   "execution_count": 82,
   "metadata": {},
   "outputs": [
    {
     "name": "stdout",
     "output_type": "stream",
     "text": [
      "0.0855     2  days\n",
      "0.0742     1  fruit yielding seed\n",
      "0.0741    12  Yahweh God\n",
      "0.0734     2  herbs yielding seed\n",
      "0.0676     4  man\n",
      "0.0672    36  God\n",
      "0.0661     1  trees\n",
      "0.0651     4  sky\n",
      "0.0617     2  light\n",
      "0.0617     2  lights\n"
     ]
    }
   ],
   "source": [
    "#for spacy we are using the predefined pipeline\n",
    "# https://spacy.io/models/en\n",
    "# we use the python model pytextrank to extract keywords\n",
    "# this example is partly taken from https://github.com/DerwenAI/pytextrank \n",
    "# and was modified to meet the requirements here\n",
    "nlp = spacy.load(\"en_core_web_sm\")\n",
    "\n",
    "nlp.add_pipe(\"textrank\", last=True)\n",
    "doc = nlp(str(genesis))\n",
    "\n",
    "# extract the 10 highest values of the textrank algorithm\n",
    "# returns the pagerank value, the count and the text to it\n",
    "for i in range(0, 10):\n",
    "    p = doc._.phrases[i]\n",
    "    print(\"{:.4f} {:5d}  {}\".format(p.rank, p.count, p.text))"
   ]
  },
  {
   "cell_type": "markdown",
   "metadata": {},
   "source": [
    "Above is the output of the first 10 elements of the TextRank algorithm. Not surprising is the result that words like days, man or god achieving a high rank, since the chapter genesis is mainly about god creating things"
   ]
  },
  {
   "cell_type": "code",
   "execution_count": 83,
   "metadata": {},
   "outputs": [],
   "source": [
    "text_rank_sentences = summarize(genesis, word_count=300)"
   ]
  },
  {
   "cell_type": "code",
   "execution_count": 84,
   "metadata": {},
   "outputs": [
    {
     "name": "stdout",
     "output_type": "stream",
     "text": [
      "In the beginning God created the heavens and the earth.\n",
      "Now the earth was formless and empty.  Darkness was on the surface\n",
      "of the deep.  God's Spirit was hovering over the surface\n",
      "of the waters.\n",
      "God said, \"Let there be light,\" and there was light.\n",
      "God saw the light, and saw that it was good.  God divided\n",
      "the light from the darkness.\n",
      "God called the light Day, and the darkness he called Night.\n",
      "There was evening and there was morning, one day.\n",
      "God s\n"
     ]
    }
   ],
   "source": [
    "print(genesis[0:450])"
   ]
  },
  {
   "cell_type": "markdown",
   "metadata": {},
   "source": [
    "Shows the part of the genesis chapter"
   ]
  },
  {
   "cell_type": "code",
   "execution_count": 85,
   "metadata": {},
   "outputs": [
    {
     "name": "stdout",
     "output_type": "stream",
     "text": [
      "In the beginning God created the heavens and the earth.\n",
      "God called the light Day, and the darkness he called Night.\n",
      "God said, \"Let there be an expanse in the middle of the waters,\n",
      "God said, \"Let the waters under the sky be gathered together\n",
      "God called the dry land Earth, and the gathering together\n",
      "God said, \"Let the earth put forth grass, herbs yielding seed,\n",
      "The earth brought forth grass, herbs yielding seed after their kind,\n",
      "God said, \"Let there be lights in the expanse of sky to\n",
      "God set them in the expanse of sky to give light to the earth,\n",
      "God said, \"Let the waters swarm with swarms of living creatures,\n",
      "and let birds fly above the earth in the open expanse of sky.\"\n",
      "the waters in the seas, and let birds multiply on the earth.\"\n",
      "God said, \"Let the earth bring forth living creatures after\n",
      "their kind, livestock, creeping things, and animals of the earth\n",
      "God made the animals of the earth after their kind,\n",
      "God said, \"Let us make man in our image, after our likeness:\n",
      "God created man in his own image.\n",
      "God said, \"Behold, I have given you every herb yielding seed,\n",
      "To every animal of the earth, and to every bird of the sky,\n",
      "the earth when they were created, in the day that Yahweh God\n",
      "Yahweh God formed man from the dust of the ground,\n",
      "Yahweh God took the man, and put him into the garden of Eden\n",
      "Yahweh God commanded the man, saying, \"Of every tree of the garden\n",
      "Yahweh God said, \"It is not good that the man should be alone;\n",
      "Out of the ground Yahweh God formed every animal of the field,\n",
      "He made the rib, which Yahweh God had taken from the man,\n"
     ]
    }
   ],
   "source": [
    "print(text_rank_sentences)"
   ]
  },
  {
   "cell_type": "markdown",
   "metadata": {},
   "source": [
    "We not used the complete genesis chapter. We focused on the first 7500 characters which belongs to the story of creating the earth, elements, animals humans, ... . The summarization works well. In the original corpus the tale starts with creating heaven and earth and the creation of night and day. To tell this a lot of fill words and sentences are used. For the same story genesis needed 9 sentences. Through summarization we could reduce the same story to two sentences. We used 300 words to summarize the text. If we use change the amount of words, the result of the summarization will change as well"
   ]
  },
  {
   "cell_type": "code",
   "execution_count": null,
   "metadata": {},
   "outputs": [],
   "source": []
  }
 ],
 "metadata": {
  "kernelspec": {
   "display_name": "Python 3.7.7 64-bit",
   "language": "python",
   "name": "python37764bit746dcb02a1a346dfa7bf3b50e29c5539"
  },
  "language_info": {
   "codemirror_mode": {
    "name": "ipython",
    "version": 3
   },
   "file_extension": ".py",
   "mimetype": "text/x-python",
   "name": "python",
   "nbconvert_exporter": "python",
   "pygments_lexer": "ipython3",
   "version": "3.7.7"
  }
 },
 "nbformat": 4,
 "nbformat_minor": 4
}
